{
 "cells": [
  {
   "cell_type": "code",
   "execution_count": 97,
   "id": "0d03e95b",
   "metadata": {},
   "outputs": [],
   "source": [
    "import numpy as np\n",
    "import skfuzzy as fuzz\n",
    "import matplotlib.pyplot as plt  "
   ]
  },
  {
   "cell_type": "code",
   "execution_count": 8,
   "id": "bac71dda",
   "metadata": {},
   "outputs": [
    {
     "ename": "NameError",
     "evalue": "name 'np' is not defined",
     "output_type": "error",
     "traceback": [
      "\u001b[1;31m---------------------------------------------------------------------------\u001b[0m",
      "\u001b[1;31mNameError\u001b[0m                                 Traceback (most recent call last)",
      "Input \u001b[1;32mIn [8]\u001b[0m, in \u001b[0;36m<cell line: 1>\u001b[1;34m()\u001b[0m\n\u001b[1;32m----> 1\u001b[0m x_qty \u001b[38;5;241m=\u001b[39m \u001b[43mnp\u001b[49m\u001b[38;5;241m.\u001b[39marange(\u001b[38;5;241m1\u001b[39m, \u001b[38;5;241m3\u001b[39m, \u001b[38;5;241m1\u001b[39m)  \n\u001b[0;32m      2\u001b[0m x_price \u001b[38;5;241m=\u001b[39m np\u001b[38;5;241m.\u001b[39marange(\u001b[38;5;241m250\u001b[39m, \u001b[38;5;241m700\u001b[39m, \u001b[38;5;241m1\u001b[39m)  \n\u001b[0;32m      4\u001b[0m qty_few \u001b[38;5;241m=\u001b[39m fuzz\u001b[38;5;241m.\u001b[39mtrapmf(x_qty,[\u001b[38;5;241m1\u001b[39m, \u001b[38;5;241m1\u001b[39m, \u001b[38;5;241m2\u001b[39m, \u001b[38;5;241m2\u001b[39m])  \n",
      "\u001b[1;31mNameError\u001b[0m: name 'np' is not defined"
     ]
    }
   ],
   "source": [
    "x_qty = np.arange(1, 3, 1)  \n",
    "x_price = np.arange(250, 700, 1)  \n",
    "\n",
    "qty_few = fuzz.trapmf(x_qty,[1, 1, 2, 2])  \n",
    "qty_enough = fuzz.trapmf(x_qty,[2, 2, 3, 3])  \n",
    "\n",
    "price_low = fuzz.trapmf(x_price,[250, 250, 400, 450])  \n",
    "price_medium = fuzz.trimf(x_price,[400, 450, 500])  \n",
    "price_high = fuzz.trapmf(x_price,[450, 500, 700, 700])  \n",
    "\n"
   ]
  },
  {
   "cell_type": "code",
   "execution_count": 9,
   "id": "6486b411",
   "metadata": {},
   "outputs": [
    {
     "ename": "NameError",
     "evalue": "name 'plt' is not defined",
     "output_type": "error",
     "traceback": [
      "\u001b[1;31m---------------------------------------------------------------------------\u001b[0m",
      "\u001b[1;31mNameError\u001b[0m                                 Traceback (most recent call last)",
      "Input \u001b[1;32mIn [9]\u001b[0m, in \u001b[0;36m<cell line: 1>\u001b[1;34m()\u001b[0m\n\u001b[1;32m----> 1\u001b[0m fig, (ax0, ax1) \u001b[38;5;241m=\u001b[39m \u001b[43mplt\u001b[49m\u001b[38;5;241m.\u001b[39msubplots(nrows\u001b[38;5;241m=\u001b[39m\u001b[38;5;241m2\u001b[39m, figsize\u001b[38;5;241m=\u001b[39m(\u001b[38;5;241m8\u001b[39m, \u001b[38;5;241m10\u001b[39m))\n\u001b[0;32m      3\u001b[0m ax0\u001b[38;5;241m.\u001b[39mplot(x_qty, qty_few, \u001b[38;5;124m'\u001b[39m\u001b[38;5;124mb\u001b[39m\u001b[38;5;124m'\u001b[39m, linewidth\u001b[38;5;241m=\u001b[39m\u001b[38;5;241m1.5\u001b[39m, label\u001b[38;5;241m=\u001b[39m\u001b[38;5;124m'\u001b[39m\u001b[38;5;124mFew = [1, 3]\u001b[39m\u001b[38;5;124m'\u001b[39m)  \n\u001b[0;32m      4\u001b[0m ax0\u001b[38;5;241m.\u001b[39mplot(x_qty, qty_enough, \u001b[38;5;124m'\u001b[39m\u001b[38;5;124mg\u001b[39m\u001b[38;5;124m'\u001b[39m, linewidth\u001b[38;5;241m=\u001b[39m\u001b[38;5;241m1.5\u001b[39m, label\u001b[38;5;241m=\u001b[39m\u001b[38;5;124m'\u001b[39m\u001b[38;5;124mEnough = [2, 5]\u001b[39m\u001b[38;5;124m'\u001b[39m)    \n",
      "\u001b[1;31mNameError\u001b[0m: name 'plt' is not defined"
     ]
    }
   ],
   "source": [
    "fig, (ax0, ax1) = plt.subplots(nrows=2, figsize=(8, 10))\n",
    "\n",
    "ax0.plot(x_qty, qty_few, 'b', linewidth=1.5, label='Few = [1, 3]')  \n",
    "ax0.plot(x_qty, qty_enough, 'g', linewidth=1.5, label='Enough = [2, 5]')    \n",
    "ax0.set_title('Graph for Quantity Variable')\n",
    "ax0.set_xlabel('Quantity Domain')\n",
    "ax0.set_ylabel('Degree of Membership')\n",
    "ax0.legend()  \n",
    "\n",
    "ax1.plot(x_price, price_low, 'b', linewidth=1.5, label='Low = [250, 450]')  \n",
    "ax1.plot(x_price, price_medium, 'g', linewidth=1.5, label='Medium = [400, 500]')  \n",
    "ax1.plot(x_price, price_high, 'r', linewidth=1.5, label='High = [450, 700]')  \n",
    "ax1.set_title('Graph for Price Variable')\n",
    "ax1.set_xlabel('Price Domain')\n",
    "ax1.set_ylabel('Degree of Membership')\n",
    "ax1.legend()  \n",
    "\n",
    "for ax in (ax0, ax1):\n",
    "  ax.spines['top'].set_visible(False)\n",
    "  ax.spines['right'].set_visible(False)\n",
    "  ax.get_xaxis().tick_bottom()\n",
    "  ax.get_yaxis().tick_left()\n",
    "  plt.tight_layout()\n",
    "\n"
   ]
  },
  {
   "cell_type": "code",
   "execution_count": null,
   "id": "66de59e8",
   "metadata": {},
   "outputs": [],
   "source": [
    "\n"
   ]
  },
  {
   "cell_type": "code",
   "execution_count": null,
   "id": "a29bdbe4",
   "metadata": {},
   "outputs": [],
   "source": []
  },
  {
   "cell_type": "code",
   "execution_count": null,
   "id": "50761524",
   "metadata": {},
   "outputs": [],
   "source": []
  },
  {
   "cell_type": "code",
   "execution_count": null,
   "id": "2af0143f",
   "metadata": {},
   "outputs": [],
   "source": [
    "\n"
   ]
  }
 ],
 "metadata": {
  "kernelspec": {
   "display_name": "Python 3 (ipykernel)",
   "language": "python",
   "name": "python3"
  },
  "language_info": {
   "codemirror_mode": {
    "name": "ipython",
    "version": 3
   },
   "file_extension": ".py",
   "mimetype": "text/x-python",
   "name": "python",
   "nbconvert_exporter": "python",
   "pygments_lexer": "ipython3",
   "version": "3.9.12"
  }
 },
 "nbformat": 4,
 "nbformat_minor": 5
}
